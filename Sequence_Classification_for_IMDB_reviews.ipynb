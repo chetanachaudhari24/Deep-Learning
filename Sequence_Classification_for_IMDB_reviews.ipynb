{
  "nbformat": 4,
  "nbformat_minor": 0,
  "metadata": {
    "colab": {
      "name": "Sequence_Classification_for_IMDB_reviews.ipynb",
      "provenance": []
    },
    "kernelspec": {
      "name": "python3",
      "display_name": "Python 3"
    },
    "accelerator": "GPU"
  },
  "cells": [
    {
      "cell_type": "code",
      "metadata": {
        "id": "_AxMEuIP-2g0",
        "colab_type": "code",
        "colab": {}
      },
      "source": [
        "import numpy\n",
        "from keras.datasets import imdb\n",
        "from keras.models import Sequential\n",
        "from keras.layers import Dense\n",
        "from keras.layers import LSTM\n",
        "from keras.layers.embeddings import Embedding\n",
        "from keras.preprocessing import sequence\n",
        "from keras.layers import Dropout\n",
        "# fix random seed for reproducibility\n",
        "numpy.random.seed(7)"
      ],
      "execution_count": 0,
      "outputs": []
    },
    {
      "cell_type": "code",
      "metadata": {
        "id": "1VJtpbBQ-_Qs",
        "colab_type": "code",
        "colab": {}
      },
      "source": [
        "from __future__ import absolute_import, division, print_function, unicode_literals"
      ],
      "execution_count": 0,
      "outputs": []
    },
    {
      "cell_type": "code",
      "metadata": {
        "id": "OjSJTKEK_HHU",
        "colab_type": "code",
        "colab": {
          "base_uri": "https://localhost:8080/",
          "height": 159
        },
        "outputId": "1428f9c9-2560-48ac-a107-ee41938f11b7"
      },
      "source": [
        "!git clone --branch r1.13.0 --depth 1 https://github.com/tensorflow/models"
      ],
      "execution_count": 3,
      "outputs": [
        {
          "output_type": "stream",
          "text": [
            "Cloning into 'models'...\n",
            "remote: Enumerating objects: 2927, done.\u001b[K\n",
            "remote: Counting objects: 100% (2927/2927), done.\u001b[K\n",
            "remote: Compressing objects: 100% (2447/2447), done.\u001b[K\n",
            "remote: Total 2927 (delta 512), reused 2068 (delta 405), pack-reused 0\u001b[K\n",
            "Receiving objects: 100% (2927/2927), 369.04 MiB | 31.52 MiB/s, done.\n",
            "Resolving deltas: 100% (512/512), done.\n",
            "Checking out files: 100% (2768/2768), done.\n"
          ],
          "name": "stdout"
        }
      ]
    },
    {
      "cell_type": "code",
      "metadata": {
        "id": "KPpiYED4_Lkn",
        "colab_type": "code",
        "colab": {
          "base_uri": "https://localhost:8080/",
          "height": 745
        },
        "outputId": "01b32486-1e40-400b-a6c1-3e211bdf9c10"
      },
      "source": [
        "!tf_upgrade_v2 -h"
      ],
      "execution_count": 4,
      "outputs": [
        {
          "output_type": "stream",
          "text": [
            "usage: tf_upgrade_v2 [-h] [--infile INPUT_FILE] [--outfile OUTPUT_FILE]\n",
            "                     [--intree INPUT_TREE] [--outtree OUTPUT_TREE]\n",
            "                     [--copyotherfiles COPY_OTHER_FILES] [--inplace]\n",
            "                     [--reportfile REPORT_FILENAME] [--mode {DEFAULT,SAFETY}]\n",
            "                     [--print_all]\n",
            "\n",
            "Convert a TensorFlow Python file from 1.x to 2.0\n",
            "\n",
            "Simple usage:\n",
            "  tf_upgrade_v2.py --infile foo.py --outfile bar.py\n",
            "  tf_upgrade_v2.py --infile foo.ipynb --outfile bar.ipynb\n",
            "  tf_upgrade_v2.py --intree ~/code/old --outtree ~/code/new\n",
            "\n",
            "optional arguments:\n",
            "  -h, --help            show this help message and exit\n",
            "  --infile INPUT_FILE   If converting a single file, the name of the file to\n",
            "                        convert\n",
            "  --outfile OUTPUT_FILE\n",
            "                        If converting a single file, the output filename.\n",
            "  --intree INPUT_TREE   If converting a whole tree of files, the directory to\n",
            "                        read from (relative or absolute).\n",
            "  --outtree OUTPUT_TREE\n",
            "                        If converting a whole tree of files, the output\n",
            "                        directory (relative or absolute).\n",
            "  --copyotherfiles COPY_OTHER_FILES\n",
            "                        If converting a whole tree of files, whether to copy\n",
            "                        the other files.\n",
            "  --inplace             If converting a set of files, whether to allow the\n",
            "                        conversion to be performed on the input files.\n",
            "  --reportfile REPORT_FILENAME\n",
            "                        The name of the file where the report log is\n",
            "                        stored.(default: report.txt)\n",
            "  --mode {DEFAULT,SAFETY}\n",
            "                        Upgrade script mode. Supported modes: DEFAULT: Perform\n",
            "                        only straightforward conversions to upgrade to 2.0. In\n",
            "                        more difficult cases, switch to use compat.v1. SAFETY:\n",
            "                        Keep 1.* code intact and import compat.v1 module. Also\n",
            "                        disable 2.0 behavior to ensure code that requires 1.X\n",
            "                        behavior continues to work.\n",
            "  --print_all           Print full log to stdout instead of just printing\n",
            "                        errors\n"
          ],
          "name": "stdout"
        }
      ]
    },
    {
      "cell_type": "code",
      "metadata": {
        "id": "OXFyG_Bf_Zxs",
        "colab_type": "code",
        "colab": {
          "base_uri": "https://localhost:8080/",
          "height": 53
        },
        "outputId": "a87271a7-030a-4c77-d218-8b078a7f88f5"
      },
      "source": [
        "max_words = 5000\n",
        "(xTrain, yTrain), (xTest, yTest) = imdb.load_data(nb_words = max_words)"
      ],
      "execution_count": 11,
      "outputs": [
        {
          "output_type": "stream",
          "text": [
            "/usr/local/lib/python3.6/dist-packages/keras/datasets/imdb.py:49: UserWarning: The `nb_words` argument in `load_data` has been renamed `num_words`.\n",
            "  warnings.warn('The `nb_words` argument in `load_data` '\n"
          ],
          "name": "stderr"
        }
      ]
    },
    {
      "cell_type": "code",
      "metadata": {
        "id": "YlmrxubR_nwn",
        "colab_type": "code",
        "colab": {}
      },
      "source": [
        "review_length = 500\n",
        "xTrain = sequence.pad_sequences(xTrain, maxlen=review_length)\n",
        "xTest = sequence.pad_sequences(xTest, maxlen = review_length)"
      ],
      "execution_count": 0,
      "outputs": []
    },
    {
      "cell_type": "code",
      "metadata": {
        "id": "d_Mm9top_56G",
        "colab_type": "code",
        "colab": {
          "base_uri": "https://localhost:8080/",
          "height": 534
        },
        "outputId": "74c824c4-8535-4ca1-a5c0-3823cb7d5b7d"
      },
      "source": [
        "embedding_len = 32\n",
        "\n",
        "model = Sequential()\n",
        "model.add(Embedding(max_words, embedding_len,input_length = review_length, dropout = 0.2 ))\n",
        "model.add(LSTM(100, dropout_W=0.2, dropout_U = 0.2 ))\n",
        "model.add(Dense(1, activation = 'sigmoid'))\n",
        "model.compile(loss = 'binary_crossentropy', optimizer = 'adam', metrics = ['accuracy'])\n",
        "model.fit(xTrain, yTrain, validation_data = (xTest, yTest), nb_epoch = 10, batch_size=64)"
      ],
      "execution_count": 16,
      "outputs": [
        {
          "output_type": "stream",
          "text": [
            "/usr/local/lib/python3.6/dist-packages/ipykernel_launcher.py:4: UserWarning: The `dropout` argument is no longer support in `Embedding`. You can apply a `keras.layers.SpatialDropout1D` layer right after the `Embedding` layer to get the same behavior.\n",
            "  after removing the cwd from sys.path.\n",
            "/usr/local/lib/python3.6/dist-packages/ipykernel_launcher.py:5: UserWarning: Update your `LSTM` call to the Keras 2 API: `LSTM(100, dropout=0.2, recurrent_dropout=0.2)`\n",
            "  \"\"\"\n",
            "/usr/local/lib/python3.6/dist-packages/ipykernel_launcher.py:8: UserWarning: The `nb_epoch` argument in `fit` has been renamed `epochs`.\n",
            "  \n"
          ],
          "name": "stderr"
        },
        {
          "output_type": "stream",
          "text": [
            "Train on 25000 samples, validate on 25000 samples\n",
            "Epoch 1/10\n",
            "25000/25000 [==============================] - 430s 17ms/step - loss: 0.5034 - acc: 0.7513 - val_loss: 0.3726 - val_acc: 0.8366\n",
            "Epoch 2/10\n",
            "25000/25000 [==============================] - 410s 16ms/step - loss: 0.3899 - acc: 0.8361 - val_loss: 0.3627 - val_acc: 0.8464\n",
            "Epoch 3/10\n",
            "25000/25000 [==============================] - 407s 16ms/step - loss: 0.3569 - acc: 0.8499 - val_loss: 0.3585 - val_acc: 0.8469\n",
            "Epoch 4/10\n",
            "25000/25000 [==============================] - 409s 16ms/step - loss: 0.3619 - acc: 0.8462 - val_loss: 0.3660 - val_acc: 0.8451\n",
            "Epoch 5/10\n",
            "25000/25000 [==============================] - 409s 16ms/step - loss: 0.3086 - acc: 0.8746 - val_loss: 0.3489 - val_acc: 0.8589\n",
            "Epoch 6/10\n",
            "25000/25000 [==============================] - 407s 16ms/step - loss: 0.3575 - acc: 0.8473 - val_loss: 0.3586 - val_acc: 0.8524\n",
            "Epoch 7/10\n",
            "25000/25000 [==============================] - 408s 16ms/step - loss: 0.3863 - acc: 0.8259 - val_loss: 0.3513 - val_acc: 0.8602\n",
            "Epoch 8/10\n",
            "25000/25000 [==============================] - 408s 16ms/step - loss: 0.2788 - acc: 0.8878 - val_loss: 0.3534 - val_acc: 0.8540\n",
            "Epoch 9/10\n",
            "25000/25000 [==============================] - 409s 16ms/step - loss: 0.2639 - acc: 0.8937 - val_loss: 0.3324 - val_acc: 0.8740\n",
            "Epoch 10/10\n",
            "25000/25000 [==============================] - 409s 16ms/step - loss: 0.2366 - acc: 0.9070 - val_loss: 0.3355 - val_acc: 0.8696\n"
          ],
          "name": "stdout"
        },
        {
          "output_type": "execute_result",
          "data": {
            "text/plain": [
              "<keras.callbacks.History at 0x7fd089b59940>"
            ]
          },
          "metadata": {
            "tags": []
          },
          "execution_count": 16
        }
      ]
    },
    {
      "cell_type": "code",
      "metadata": {
        "id": "EVRBV-J-Rfty",
        "colab_type": "code",
        "colab": {
          "base_uri": "https://localhost:8080/",
          "height": 35
        },
        "outputId": "18761d5f-3656-4629-f3e6-fd0ae20db43d"
      },
      "source": [
        "scores = model.evaluate(xTest, yTest, verbose=0)\n",
        "print(\"Accuracy: %.2f%%\" % (scores[1]*100))"
      ],
      "execution_count": 17,
      "outputs": [
        {
          "output_type": "stream",
          "text": [
            "Accuracy: 86.96%\n"
          ],
          "name": "stdout"
        }
      ]
    }
  ]
}