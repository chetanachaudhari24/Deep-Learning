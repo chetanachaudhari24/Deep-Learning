{
  "nbformat": 4,
  "nbformat_minor": 0,
  "metadata": {
    "colab": {
      "name": "Movie_Review_Sentiment_Prediction.ipynb",
      "provenance": [],
      "collapsed_sections": []
    },
    "kernelspec": {
      "name": "python3",
      "display_name": "Python 3"
    },
    "accelerator": "GPU"
  },
  "cells": [
    {
      "cell_type": "code",
      "metadata": {
        "id": "jQPaR2P78-RN",
        "colab_type": "code",
        "colab": {
          "base_uri": "https://localhost:8080/",
          "height": 73
        },
        "outputId": "de365296-5fb2-4d5d-f3e2-f29c933e6578"
      },
      "source": [
        "import numpy \n",
        "from keras.datasets import imdb\n",
        "from keras.preprocessing import sequence\n",
        "from matplotlib import pyplot\n",
        "\n",
        "top_words = 10000\n",
        "max_words = 1000\n",
        "\n",
        "(xTrain, yTrain) , (xTest, yTest) = imdb.load_data(nb_words = top_words)\n",
        "X = numpy.concatenate((xTrain, xTest), axis = 0)\n",
        "y = numpy.concatenate((yTrain, yTest), axis = 0)\n",
        "\n",
        "xTrain = sequence.pad_sequences(xTrain, maxlen = max_words)\n",
        "xTest = sequence.pad_sequences(xTest, maxlen = max_words)"
      ],
      "execution_count": 39,
      "outputs": [
        {
          "output_type": "stream",
          "text": [
            "/usr/local/lib/python3.6/dist-packages/keras/datasets/imdb.py:49: UserWarning: The `nb_words` argument in `load_data` has been renamed `num_words`.\n",
            "  warnings.warn('The `nb_words` argument in `load_data` '\n"
          ],
          "name": "stderr"
        }
      ]
    },
    {
      "cell_type": "code",
      "metadata": {
        "id": "yeDk9cjS9wsi",
        "colab_type": "code",
        "colab": {
          "base_uri": "https://localhost:8080/",
          "height": 35
        },
        "outputId": "ec55e3fd-39bb-4446-c385-badf16255dd2"
      },
      "source": [
        "X.shape"
      ],
      "execution_count": 40,
      "outputs": [
        {
          "output_type": "execute_result",
          "data": {
            "text/plain": [
              "(50000,)"
            ]
          },
          "metadata": {
            "tags": []
          },
          "execution_count": 40
        }
      ]
    },
    {
      "cell_type": "code",
      "metadata": {
        "id": "xLi1kRZ99zTM",
        "colab_type": "code",
        "colab": {
          "base_uri": "https://localhost:8080/",
          "height": 35
        },
        "outputId": "eab3ea62-2f89-42bd-8e27-e7aa161ef90a"
      },
      "source": [
        "y.shape"
      ],
      "execution_count": 41,
      "outputs": [
        {
          "output_type": "execute_result",
          "data": {
            "text/plain": [
              "(50000,)"
            ]
          },
          "metadata": {
            "tags": []
          },
          "execution_count": 41
        }
      ]
    },
    {
      "cell_type": "code",
      "metadata": {
        "id": "CSaDjh9291gA",
        "colab_type": "code",
        "colab": {
          "base_uri": "https://localhost:8080/",
          "height": 35
        },
        "outputId": "c37bcebc-74b8-49a9-fb14-4d1ce80cd660"
      },
      "source": [
        "numpy.unique(y)"
      ],
      "execution_count": 42,
      "outputs": [
        {
          "output_type": "execute_result",
          "data": {
            "text/plain": [
              "array([0, 1])"
            ]
          },
          "metadata": {
            "tags": []
          },
          "execution_count": 42
        }
      ]
    },
    {
      "cell_type": "code",
      "metadata": {
        "colab_type": "code",
        "outputId": "55e50add-60d8-45d8-ecfa-a994f049099c",
        "id": "pmHA8zya-Kss",
        "colab": {
          "base_uri": "https://localhost:8080/",
          "height": 35
        }
      },
      "source": [
        "print(\"Number of words: \",  len(numpy.unique(numpy.hstack(X))))"
      ],
      "execution_count": 43,
      "outputs": [
        {
          "output_type": "stream",
          "text": [
            "Number of words:  9998\n"
          ],
          "name": "stdout"
        }
      ]
    },
    {
      "cell_type": "code",
      "metadata": {
        "id": "kruEKlQk-Let",
        "colab_type": "code",
        "colab": {}
      },
      "source": [
        "# CNN for the IMDB problem\n",
        "import numpy\n",
        "from keras.datasets import imdb\n",
        "from keras.models import Sequential\n",
        "from keras.layers import Dense\n",
        "from keras.layers import Flatten\n",
        "from keras.layers.convolutional import Convolution1D\n",
        "from keras.layers.convolutional import MaxPooling1D\n",
        "from keras.layers.embeddings import Embedding\n",
        "from keras.preprocessing import sequence\n",
        "from keras.layers import Dropout\n",
        "from keras.optimizers import SGD\n",
        "# fix random seed for reproducibility\n",
        "seed = 7\n",
        "numpy.random.seed(seed)"
      ],
      "execution_count": 0,
      "outputs": []
    },
    {
      "cell_type": "code",
      "metadata": {
        "id": "3JJVoBdf-4yo",
        "colab_type": "code",
        "colab": {
          "base_uri": "https://localhost:8080/",
          "height": 516
        },
        "outputId": "e9468fd1-3d7f-4274-bc69-909ddf847e92"
      },
      "source": [
        "\n",
        "model = Sequential()\n",
        "model.add(Embedding(top_words, 32, input_length=max_words))\n",
        "model.add(Convolution1D(nb_filter=64, filter_length=3, border_mode= 'same' ,\n",
        "activation= 'relu' ))\n",
        "model.add(MaxPooling1D(pool_length=2))\n",
        "model.add(Dropout(0.2))\n",
        "\n",
        "\n",
        "model.add(Flatten())\n",
        "model.add(Dense(250, activation= 'relu' ))\n",
        "model.add(Dense(1, activation= 'sigmoid' ))\n",
        "\n",
        "learning_rate = 0.1\n",
        "epochs = 20\n",
        "decay_rate = learning_rate /epochs\n",
        "momentum = 0.8\n",
        "\n",
        "sgd = SGD(lr = learning_rate, momentum = momentum, decay = decay_rate, nesterov = False)\n",
        "\n",
        "model.compile(loss= 'binary_crossentropy' , optimizer= sgd , metrics=[ 'accuracy' ])\n",
        "print(model.summary())"
      ],
      "execution_count": 62,
      "outputs": [
        {
          "output_type": "stream",
          "text": [
            "Model: \"sequential_15\"\n",
            "_________________________________________________________________\n",
            "Layer (type)                 Output Shape              Param #   \n",
            "=================================================================\n",
            "embedding_15 (Embedding)     (None, 1000, 32)          320000    \n",
            "_________________________________________________________________\n",
            "conv1d_21 (Conv1D)           (None, 1000, 64)          6208      \n",
            "_________________________________________________________________\n",
            "max_pooling1d_21 (MaxPooling (None, 500, 64)           0         \n",
            "_________________________________________________________________\n",
            "dropout_23 (Dropout)         (None, 500, 64)           0         \n",
            "_________________________________________________________________\n",
            "flatten_14 (Flatten)         (None, 32000)             0         \n",
            "_________________________________________________________________\n",
            "dense_27 (Dense)             (None, 250)               8000250   \n",
            "_________________________________________________________________\n",
            "dense_28 (Dense)             (None, 1)                 251       \n",
            "=================================================================\n",
            "Total params: 8,326,709\n",
            "Trainable params: 8,326,709\n",
            "Non-trainable params: 0\n",
            "_________________________________________________________________\n",
            "None\n"
          ],
          "name": "stdout"
        },
        {
          "output_type": "stream",
          "text": [
            "/usr/local/lib/python3.6/dist-packages/ipykernel_launcher.py:5: UserWarning: Update your `Conv1D` call to the Keras 2 API: `Conv1D(activation=\"relu\", filters=64, kernel_size=3, padding=\"same\")`\n",
            "  \"\"\"\n",
            "/usr/local/lib/python3.6/dist-packages/ipykernel_launcher.py:6: UserWarning: Update your `MaxPooling1D` call to the Keras 2 API: `MaxPooling1D(pool_size=2)`\n",
            "  \n"
          ],
          "name": "stderr"
        }
      ]
    },
    {
      "cell_type": "code",
      "metadata": {
        "id": "4FCqoVoEAvvp",
        "colab_type": "code",
        "colab": {
          "base_uri": "https://localhost:8080/",
          "height": 800
        },
        "outputId": "862a473a-fb65-45e9-9863-6abac63724a4"
      },
      "source": [
        "from keras.callbacks import ModelCheckpoint\n",
        "\n",
        "filepath = 'weights.best.hdf5'\n",
        "checkpoint = ModelCheckpoint(filepath, monitor = 'val_acc', verbose = 1, save_best_only = True, mode = 'max')\n",
        "callbacks_list = [checkpoint]\n",
        "\n",
        "model.fit(xTrain , yTrain, validation_data = (xTest, yTest), nb_epoch = epochs, batch_size = 128, verbose = 0, callbacks = callbacks_list)"
      ],
      "execution_count": 63,
      "outputs": [
        {
          "output_type": "stream",
          "text": [
            "/usr/local/lib/python3.6/dist-packages/ipykernel_launcher.py:7: UserWarning: The `nb_epoch` argument in `fit` has been renamed `epochs`.\n",
            "  import sys\n"
          ],
          "name": "stderr"
        },
        {
          "output_type": "stream",
          "text": [
            "\n",
            "Epoch 00001: val_acc improved from -inf to 0.50000, saving model to weights.best.hdf5\n",
            "\n",
            "Epoch 00002: val_acc improved from 0.50000 to 0.53596, saving model to weights.best.hdf5\n",
            "\n",
            "Epoch 00003: val_acc improved from 0.53596 to 0.61688, saving model to weights.best.hdf5\n",
            "\n",
            "Epoch 00004: val_acc improved from 0.61688 to 0.67504, saving model to weights.best.hdf5\n",
            "\n",
            "Epoch 00005: val_acc did not improve from 0.67504\n",
            "\n",
            "Epoch 00006: val_acc improved from 0.67504 to 0.77596, saving model to weights.best.hdf5\n",
            "\n",
            "Epoch 00007: val_acc did not improve from 0.77596\n",
            "\n",
            "Epoch 00008: val_acc improved from 0.77596 to 0.83424, saving model to weights.best.hdf5\n",
            "\n",
            "Epoch 00009: val_acc improved from 0.83424 to 0.85960, saving model to weights.best.hdf5\n",
            "\n",
            "Epoch 00010: val_acc did not improve from 0.85960\n",
            "\n",
            "Epoch 00011: val_acc did not improve from 0.85960\n",
            "\n",
            "Epoch 00012: val_acc improved from 0.85960 to 0.87236, saving model to weights.best.hdf5\n",
            "\n",
            "Epoch 00013: val_acc improved from 0.87236 to 0.87300, saving model to weights.best.hdf5\n",
            "\n",
            "Epoch 00014: val_acc improved from 0.87300 to 0.87648, saving model to weights.best.hdf5\n",
            "\n",
            "Epoch 00015: val_acc did not improve from 0.87648\n",
            "\n",
            "Epoch 00016: val_acc did not improve from 0.87648\n",
            "\n",
            "Epoch 00017: val_acc did not improve from 0.87648\n",
            "\n",
            "Epoch 00018: val_acc did not improve from 0.87648\n",
            "\n",
            "Epoch 00019: val_acc did not improve from 0.87648\n",
            "\n",
            "Epoch 00020: val_acc did not improve from 0.87648\n"
          ],
          "name": "stdout"
        },
        {
          "output_type": "execute_result",
          "data": {
            "text/plain": [
              "<keras.callbacks.History at 0x7f73cfd25cf8>"
            ]
          },
          "metadata": {
            "tags": []
          },
          "execution_count": 63
        }
      ]
    },
    {
      "cell_type": "code",
      "metadata": {
        "id": "rBfT01BTHtmj",
        "colab_type": "code",
        "colab": {
          "base_uri": "https://localhost:8080/",
          "height": 35
        },
        "outputId": "7d546aab-0de5-48aa-939e-94faca31220e"
      },
      "source": [
        "# Final evaluation of the model\n",
        "scores = model.evaluate(xTest, yTest, verbose=0)\n",
        "print(\"Accuracy: %.2f%%\" % (scores[1]*100))"
      ],
      "execution_count": 64,
      "outputs": [
        {
          "output_type": "stream",
          "text": [
            "Accuracy: 87.63%\n"
          ],
          "name": "stdout"
        }
      ]
    }
  ]
}